{
 "cells": [
  {
   "cell_type": "markdown",
   "metadata": {},
   "source": [
    "# CLUSTERING \n",
    "\n",
    "* Two forms of clustering \n",
    "\n",
    "* a. Flat Clustering \n",
    "\n",
    "* b. Hierarchical clustering\n",
    "\n",
    "* With both forms of clustering, the machine is given a dataset, just the feature set and then the machine will search for \n",
    "  groups or cluster by itself and then each cluster is given an id\n",
    "\n",
    "* The difference between flat and hierarchical clustering is that in flat, you tell the machine the number of clusters you want\n",
    "  it to find, while in hierarchical the machine figures out the group(clusters) and how many there ought to between\n",
    "\n",
    "## 1. Using The K-Means Algorithm\n",
    "\n",
    "* You choose what K is, and K is the number of clusters that you want \n",
    "* How it works, It will take your entire dataset and choose some centroids, (random data points in your feature set) i.e.   centers of your clusters. You can choose the first K - values in the dataset, but you can also randomly select, or shuffle\n",
    "  your data and take the first K - values.\n",
    "* After choosing your centroids (the heart of your cluster), then you compare your datapoints to the centroids and then you calculate the distance of each datapoint to the centroids and then you classify each of the datapoints based on whichever centroid they are closest to. i.e. adds them to the clusters they are closest to. \n",
    "  \n",
    "* Then you take all your dataset again, and take the mean of those to find the center of each and make those means new \n",
    "  centroids and then you repeat the process untill the centroid are no longer moving, when they are not moving again(until you are optimized), you have your clusters.\n",
    "* You set a max_iter also i.e. maximum number of iterations, and if your centroids still needs to move after the number of iterations, then we are not gonna find it.\n",
    "\n",
    "* The one downside to K-Means is that it wants to cluster data into equal sized groups, so it's gonna have a hard time picking differently sized groups because of its adherence to distance\n",
    "\n",
    "* A larger k means smaller groups with more granularity in the same way. A lower k means larger groups with less granularity"
   ]
  },
  {
   "cell_type": "markdown",
   "metadata": {},
   "source": [
    "### Importing the necessary libraries"
   ]
  },
  {
   "cell_type": "code",
   "execution_count": 1,
   "metadata": {},
   "outputs": [],
   "source": [
    "import matplotlib.pyplot as plt\n",
    "from matplotlib import style\n",
    "style.use('ggplot')\n",
    "import numpy as np\n",
    "from sklearn.cluster import KMeans"
   ]
  },
  {
   "cell_type": "markdown",
   "metadata": {},
   "source": [
    "### Let's create a sample input, an array X containing two features (two seperate columns in our array) as seen below"
   ]
  },
  {
   "cell_type": "code",
   "execution_count": 2,
   "metadata": {},
   "outputs": [],
   "source": [
    "X = np.array([[1, 2],\n",
    "            [1.5, 1.8],\n",
    "            [5, 8],\n",
    "            [8, 8],\n",
    "            [1, 0.6],\n",
    "            [9, 11]])"
   ]
  },
  {
   "cell_type": "code",
   "execution_count": 3,
   "metadata": {},
   "outputs": [
    {
     "data": {
      "text/plain": [
       "array([[ 1. ,  2. ],\n",
       "       [ 1.5,  1.8],\n",
       "       [ 5. ,  8. ],\n",
       "       [ 8. ,  8. ],\n",
       "       [ 1. ,  0.6],\n",
       "       [ 9. , 11. ]])"
      ]
     },
     "execution_count": 3,
     "metadata": {},
     "output_type": "execute_result"
    }
   ],
   "source": [
    "X"
   ]
  },
  {
   "cell_type": "code",
   "execution_count": null,
   "metadata": {},
   "outputs": [],
   "source": []
  },
  {
   "cell_type": "markdown",
   "metadata": {},
   "source": [
    "## Modelling and Visualization"
   ]
  },
  {
   "cell_type": "code",
   "execution_count": 4,
   "metadata": {},
   "outputs": [
    {
     "data": {
      "image/png": "[encoded data removed]",
      "text/plain": [
       "<Figure size 432x288 with 1 Axes>"
      ]
     },
     "metadata": {},
     "output_type": "display_data"
    }
   ],
   "source": [
    "clf = KMeans(n_clusters=2)\n",
    "clf.fit(X)\n",
    "\n",
    "centroids = clf.cluster_centers_\n",
    "labels = clf.labels_\n",
    "\n",
    "colors = 10*[\"r.\", \"g.\",\"c,\",\"b.\",\"k.\"]\n",
    "\n",
    "for i in range(len(X)):\n",
    "    plt.plot(X[i][0], X[i][1], colors[labels[i]], markersize=25)\n",
    "plt.scatter(centroids[:,0], centroids[:,1], marker='x', s=150, lw=5)\n",
    "plt.show()"
   ]
  },
  {
   "cell_type": "markdown",
   "metadata": {},
   "source": [
    "## In the plot above, we can see that we have two clusters, one containg the red circles and the other cluster containing the green circles  with their seperate centeroids (center of the cluster reperesented by the red X)\n",
    "* In classification, we wanted to know how accurate our model was, with clustering we ar just hoping those clusters or groups are made and exists "
   ]
  },
  {
   "cell_type": "code",
   "execution_count": null,
   "metadata": {},
   "outputs": [],
   "source": []
  }
 ],
 "metadata": {
  "kernelspec": {
   "display_name": "Python 3",
   "language": "python",
   "name": "python3"
  },
  "language_info": {
   "codemirror_mode": {
    "name": "ipython",
    "version": 3
   },
   "file_extension": ".py",
   "mimetype": "text/x-python",
   "name": "python",
   "nbconvert_exporter": "python",
   "pygments_lexer": "ipython3",
   "version": "3.7.6"
  }
 },
 "nbformat": 4,
 "nbformat_minor": 4
}
